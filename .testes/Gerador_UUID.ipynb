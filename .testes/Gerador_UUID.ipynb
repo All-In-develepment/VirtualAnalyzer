{
 "cells": [
  {
   "cell_type": "code",
   "execution_count": 1,
   "metadata": {},
   "outputs": [
    {
     "name": "stdout",
     "output_type": "stream",
     "text": [
      "Sua chave UUID v4 é: 84693ba8-405d-41f3-957d-b06a8b44f084\n"
     ]
    }
   ],
   "source": [
    "import uuid\n",
    "chave = uuid.uuid4 ()\n",
    "print ('Sua chave UUID v4 é: ' + str (chave))\n"
   ]
  }
 ],
 "metadata": {
  "kernelspec": {
   "display_name": "Python 3",
   "language": "python",
   "name": "python3"
  },
  "language_info": {
   "codemirror_mode": {
    "name": "ipython",
    "version": 3
   },
   "file_extension": ".py",
   "mimetype": "text/x-python",
   "name": "python",
   "nbconvert_exporter": "python",
   "pygments_lexer": "ipython3",
   "version": "3.12.0"
  }
 },
 "nbformat": 4,
 "nbformat_minor": 2
}
